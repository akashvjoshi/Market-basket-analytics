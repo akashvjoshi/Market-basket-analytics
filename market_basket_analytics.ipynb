{
 "cells": [
  {
   "cell_type": "markdown",
   "metadata": {},
   "source": [
    "Importing libraries"
   ]
  },
  {
   "cell_type": "code",
   "execution_count": 1,
   "metadata": {
    "collapsed": true
   },
   "outputs": [],
   "source": [
    "import requests\n",
    "import pandas as pd\n",
    "import numpy as np\n",
    "import urllib\n",
    "import operator"
   ]
  },
  {
   "cell_type": "markdown",
   "metadata": {},
   "source": [
    "Downloading training and testing files from the internet"
   ]
  },
  {
   "cell_type": "code",
   "execution_count": 2,
   "metadata": {
    "collapsed": true
   },
   "outputs": [],
   "source": [
    "url1 = \"http://kevincrook.com/utd/market_basket_training.txt\"\n",
    "r1 = requests.get(url1)\n",
    "with open('market_basket_training.txt', 'wb') as output:\n",
    "    output.write(r1.content)\n",
    "train_data = pd.read_csv('market_basket_training.txt',names = [\"transaction\",\"item1\",\"item2\",\"item3\",\"item4\"], header=None)   \n",
    "url2 = \"http://kevincrook.com/utd/market_basket_test.txt\"\n",
    "r2 = requests.get(url2)\n",
    "with open('market_basket_test.txt', 'wb') as output:\n",
    "    output.write(r2.content)"
   ]
  },
  {
   "cell_type": "markdown",
   "metadata": {},
   "source": [
    "Making dataframes for training and testing files"
   ]
  },
  {
   "cell_type": "code",
   "execution_count": 3,
   "metadata": {
    "collapsed": true
   },
   "outputs": [],
   "source": [
    "\n",
    "\n",
    "test_data = pd.read_csv('market_basket_test.txt',names = [\"transaction\",\"item1\",\"item2\",\"item3\",\"item4\"], header=None)"
   ]
  },
  {
   "cell_type": "markdown",
   "metadata": {},
   "source": [
    "Manipulating training dataframe to combine items and make set out of it"
   ]
  },
  {
   "cell_type": "code",
   "execution_count": 4,
   "metadata": {
    "collapsed": true
   },
   "outputs": [],
   "source": [
    "train_data_concat = train_data.fillna('')\n",
    "train_data_concat['all_items'] = train_data_concat['item1'] + ';' + train_data_concat['item2'] + ';' + train_data_concat['item3'] + ';' + train_data_concat['item4']\n",
    "train_data_concat['all_items_set'] = train_data_concat.all_items.str.strip(';').str.split('\\s*;\\s*').apply(set)"
   ]
  },
  {
   "cell_type": "markdown",
   "metadata": {},
   "source": [
    "getting the count of each item combination"
   ]
  },
  {
   "cell_type": "code",
   "execution_count": 5,
   "metadata": {
    "collapsed": true
   },
   "outputs": [],
   "source": [
    "df_count = train_data_concat.groupby('all_items').size()\n",
    "df_count = df_count.to_frame().reset_index()\n",
    "df_count.columns = ['all_items','count']"
   ]
  },
  {
   "cell_type": "markdown",
   "metadata": {},
   "source": [
    "combining both the dataframes to create a final dataframe with sets and count"
   ]
  },
  {
   "cell_type": "code",
   "execution_count": 6,
   "metadata": {
    "collapsed": true
   },
   "outputs": [],
   "source": [
    "df_train_data = train_data_concat.drop_duplicates('all_items')\n",
    "df_final = pd.merge(df_train_data, df_count, on='all_items', how='outer')"
   ]
  },
  {
   "cell_type": "markdown",
   "metadata": {},
   "source": [
    "Manipulating test dataframe to combine items and make set out of it"
   ]
  },
  {
   "cell_type": "code",
   "execution_count": 7,
   "metadata": {
    "collapsed": true
   },
   "outputs": [],
   "source": [
    "test_data_concat = test_data.fillna('')\n",
    "test_data_concat['all_items'] = test_data_concat['item1'] + ';' + test_data_concat['item2'] + ';' + test_data_concat['item3'] + ';' + test_data_concat['item4']\n",
    "test_data_concat['all_items_set'] = test_data_concat.all_items.str.strip(';').str.split('\\s*;\\s*').apply(set)"
   ]
  },
  {
   "cell_type": "markdown",
   "metadata": {},
   "source": [
    "logic for getting the recommendations"
   ]
  },
  {
   "cell_type": "code",
   "execution_count": 8,
   "metadata": {},
   "outputs": [
    {
     "name": "stderr",
     "output_type": "stream",
     "text": [
      "C:\\Users\\akash\\Anaconda3\\lib\\site-packages\\ipykernel_launcher.py:13: SettingWithCopyWarning: \n",
      "A value is trying to be set on a copy of a slice from a DataFrame\n",
      "\n",
      "See the caveats in the documentation: http://pandas.pydata.org/pandas-docs/stable/indexing.html#indexing-view-versus-copy\n",
      "  del sys.path[0]\n",
      "C:\\Users\\akash\\Anaconda3\\lib\\site-packages\\ipykernel_launcher.py:23: SettingWithCopyWarning: \n",
      "A value is trying to be set on a copy of a slice from a DataFrame\n",
      "\n",
      "See the caveats in the documentation: http://pandas.pydata.org/pandas-docs/stable/indexing.html#indexing-view-versus-copy\n",
      "C:\\Users\\akash\\Anaconda3\\lib\\site-packages\\ipykernel_launcher.py:33: SettingWithCopyWarning: \n",
      "A value is trying to be set on a copy of a slice from a DataFrame\n",
      "\n",
      "See the caveats in the documentation: http://pandas.pydata.org/pandas-docs/stable/indexing.html#indexing-view-versus-copy\n"
     ]
    }
   ],
   "source": [
    "item_freq1 = test_data_concat.copy()\n",
    "item_freq1['rec_item'] = ''\n",
    "\n",
    "for i in range(len(test_data_concat)):\n",
    "    freq = dict()\n",
    "    for j in range(len(df_final)):\n",
    "        if test_data_concat.iloc[i,6].issubset(df_final.iloc[j,6]):\n",
    "            if len(test_data_concat.iloc[i,6]) == len(df_final.iloc[j,6]) - 1:\n",
    "                freq[tuple(df_final.iloc[j,6])] = df_final.iloc[j,7]\n",
    "    s_freq = sorted(freq.items(), key=operator.itemgetter(1),reverse=True)\n",
    "    if s_freq != []:\n",
    "        r = set(s_freq[0][0]) - test_data_concat.iloc[i,6] \n",
    "        item_freq1['rec_item'][i] = r\n",
    "    else:\n",
    "        for elem in test_data_concat.iloc[i,6]:\n",
    "            for j in range(len(df_final)):\n",
    "                if (test_data_concat.iloc[i,6] - {elem}).issubset(df_final.iloc[j,6]):\n",
    "                    if len(df_final.iloc[j,6]) == len((test_data_concat.iloc[i,6] - {elem})) + 1:\n",
    "                        freq[tuple(df_final.iloc[j,6])] = df_final.iloc[j,7]\n",
    "        s_freq = sorted(freq.items(), key=operator.itemgetter(1),reverse=True)\n",
    "        if s_freq != []:\n",
    "            r = set(s_freq[0][0]) - test_data_concat.iloc[i,6]\n",
    "            item_freq1['rec_item'][i] = r\n",
    "        else:\n",
    "            for elem in test_data_concat.iloc[i,6]:\n",
    "                for j in range(len(df_final)):\n",
    "                    if ({elem}).issubset(df_final.iloc[j,6]):\n",
    "                        if len(df_final.iloc[j,6]) == 2:\n",
    "                            freq[tuple(df_final.iloc[j,6])] = df_final.iloc[j,7]\n",
    "            s_freq = sorted(freq.items(), key=operator.itemgetter(1),reverse=True)\n",
    "            if s_freq != []:\n",
    "                r = set(s_freq[0][0]) - test_data_concat.iloc[i,6]\n",
    "                item_freq1['rec_item'][i] = r"
   ]
  },
  {
   "cell_type": "markdown",
   "metadata": {},
   "source": [
    "writing outputs and creating recommendation text file using the "
   ]
  },
  {
   "cell_type": "code",
   "execution_count": 9,
   "metadata": {},
   "outputs": [
    {
     "name": "stderr",
     "output_type": "stream",
     "text": [
      "C:\\Users\\akash\\Anaconda3\\lib\\site-packages\\ipykernel_launcher.py:2: SettingWithCopyWarning: \n",
      "A value is trying to be set on a copy of a slice from a DataFrame.\n",
      "Try using .loc[row_indexer,col_indexer] = value instead\n",
      "\n",
      "See the caveats in the documentation: http://pandas.pydata.org/pandas-docs/stable/indexing.html#indexing-view-versus-copy\n",
      "  \n",
      "C:\\Users\\akash\\Anaconda3\\lib\\site-packages\\ipykernel_launcher.py:3: SettingWithCopyWarning: \n",
      "A value is trying to be set on a copy of a slice from a DataFrame.\n",
      "Try using .loc[row_indexer,col_indexer] = value instead\n",
      "\n",
      "See the caveats in the documentation: http://pandas.pydata.org/pandas-docs/stable/indexing.html#indexing-view-versus-copy\n",
      "  This is separate from the ipykernel package so we can avoid doing imports until\n"
     ]
    }
   ],
   "source": [
    "df_out = item_freq1[['transaction','rec_item']]\n",
    "df_out['rec_item'] = df_out['rec_item'].apply(lambda x: ''.join(str(e) for e in x))\n",
    "df_out['transaction'] = df_out['transaction'].apply(lambda x: '{0:0>3}'.format(x))\n",
    "df_out.to_csv('market_basket_recommendations.txt', sep=',', header=None, index=False, encoding='utf-8')"
   ]
  }
 ],
 "metadata": {
  "kernelspec": {
   "display_name": "Python 3",
   "language": "python",
   "name": "python3"
  },
  "language_info": {
   "codemirror_mode": {
    "name": "ipython",
    "version": 3
   },
   "file_extension": ".py",
   "mimetype": "text/x-python",
   "name": "python",
   "nbconvert_exporter": "python",
   "pygments_lexer": "ipython3",
   "version": "3.6.3"
  }
 },
 "nbformat": 4,
 "nbformat_minor": 2
}
